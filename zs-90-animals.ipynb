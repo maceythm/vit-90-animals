{
 "cells": [
  {
   "cell_type": "markdown",
   "metadata": {},
   "source": [
    "# **Zero-Shot Model**"
   ]
  },
  {
   "cell_type": "code",
   "execution_count": null,
   "metadata": {},
   "outputs": [],
   "source": [
    "from transformers import pipeline\n",
    "\n",
    "checkpoint = \"openai/clip-vit-large-patch14\"\n",
    "detector = pipeline(model=checkpoint, task=\"zero-shot-image-classification\")"
   ]
  },
  {
   "cell_type": "code",
   "execution_count": null,
   "metadata": {},
   "outputs": [],
   "source": [
    "from datasets import load_dataset\n",
    "import kagglehub\n",
    "\n",
    "# Datensatz von Kaggle herunterladen\n",
    "path = kagglehub.dataset_download(\"iamsouravbanerjee/animal-image-dataset-90-different-animals\")\n",
    "print(\"Path to dataset files:\", path)\n",
    "\n",
    "# Datensatz als HF-Dataset laden\n",
    "dataset = load_dataset(\"imagefolder\", data_dir=path)\n",
    "print(dataset)"
   ]
  },
  {
   "cell_type": "code",
   "execution_count": null,
   "metadata": {},
   "outputs": [],
   "source": [
    "dataset['train'][0]['image']"
   ]
  },
  {
   "cell_type": "code",
   "execution_count": 4,
   "metadata": {},
   "outputs": [],
   "source": [
    "# Liste aller Klassennamen (90 Tierarten)\n",
    "label_names = dataset['train'].features['label'].names"
   ]
  },
  {
   "cell_type": "code",
   "execution_count": 5,
   "metadata": {},
   "outputs": [],
   "source": [
    "from PIL import Image\n",
    "from tqdm import tqdm\n",
    "\n",
    "# Alle Tiernamen als mögliche Text-Labels für Zero-Shot Prediction\n",
    "labels_animals = label_names\n",
    "\n",
    "# Vorbereitung: Listen für echte und vorhergesagte Labels\n",
    "true_labels = []\n",
    "predicted_labels = []"
   ]
  },
  {
   "cell_type": "code",
   "execution_count": null,
   "metadata": {},
   "outputs": [],
   "source": [
    "from tqdm import tqdm\n",
    "\n",
    "# Anzahl zu evaluierender Bilder (kompletter Trainingsdatensatz)\n",
    "num_samples = len(dataset['train'])\n",
    "\n",
    "# Hauptloop: Zero-Shot Prediction für jedes Bild\n",
    "for i in tqdm(range(num_samples)):\n",
    "\n",
    "    # Hole PIL-Image aus Datensatz\n",
    "    image = dataset['train'][i]['image']\n",
    "    \n",
    "    # Führe Zero-Shot Prediction durch mit CLIP\n",
    "    results = detector(image, candidate_labels=labels_animals)\n",
    "\n",
    "    # Sortiere nach höchster Score\n",
    "    sorted_results = sorted(results, key=lambda x: x['score'], reverse=True)\n",
    "    predicted_label = sorted_results[0]['label']\n",
    "\n",
    "    # Wahres Label anhand der Label-ID\n",
    "    true_label_idx = dataset['train'][i]['label']\n",
    "    true_label = labels_animals[true_label_idx]\n",
    "    \n",
    "    # Ergebnisse speichern\n",
    "    true_labels.append(true_label)\n",
    "    predicted_labels.append(predicted_label)\n"
   ]
  },
  {
   "cell_type": "code",
   "execution_count": null,
   "metadata": {},
   "outputs": [],
   "source": [
    "# Evaluation der Vorhersagen mit klassischen Metriken\n",
    "from sklearn.metrics import accuracy_score, precision_score, recall_score\n",
    "\n",
    "# Accuracy: Anteil korrekt vorhergesagter Labels\n",
    "accuracy = accuracy_score(true_labels, predicted_labels)\n",
    "\n",
    "# Precision: Verhältnis korrekt vorhergesagter Labels zu allen vorhergesagten Labels\n",
    "precision = precision_score(true_labels, predicted_labels, average='weighted', labels=labels_animals, zero_division=0)\n",
    "\n",
    "# Recall: Vollständigkeit der korrekt vorhergesagten Labels\n",
    "recall = recall_score(true_labels, predicted_labels, average='weighted', labels=labels_animals, zero_division=0)\n",
    "\n",
    "print(f\"Accuracy: {accuracy:.4f}\")\n",
    "print(f\"Precision: {precision:.4f}\")\n",
    "print(f\"Recall: {recall:.4f}\")\n"
   ]
  }
 ],
 "metadata": {
  "language_info": {
   "name": "python"
  }
 },
 "nbformat": 4,
 "nbformat_minor": 2
}
